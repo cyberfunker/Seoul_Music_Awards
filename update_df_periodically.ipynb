{
  "nbformat": 4,
  "nbformat_minor": 0,
  "metadata": {
    "colab": {
      "name": "update_df_periodically.ipynb",
      "provenance": [],
      "collapsed_sections": []
    },
    "kernelspec": {
      "name": "python3",
      "display_name": "Python 3"
    }
  },
  "cells": [
    {
      "cell_type": "markdown",
      "metadata": {
        "id": "twzRBRrFsrG7"
      },
      "source": [
        "Downloads info from the SMA website every hour"
      ]
    },
    {
      "cell_type": "code",
      "metadata": {
        "id": "hA2qH_MHsXao",
        "colab": {
          "base_uri": "https://localhost:8080/"
        },
        "outputId": "4de7f8a7-1449-4965-a9a3-9bfa4549ea86"
      },
      "source": [
        "pip install schedule"
      ],
      "execution_count": 1,
      "outputs": [
        {
          "output_type": "stream",
          "text": [
            "Collecting schedule\n",
            "  Downloading https://files.pythonhosted.org/packages/57/22/3a709462eb02412bd1145f6e53604f36bba191e3e4e397bea4a718fec38c/schedule-0.6.0-py2.py3-none-any.whl\n",
            "Installing collected packages: schedule\n",
            "Successfully installed schedule-0.6.0\n"
          ],
          "name": "stdout"
        }
      ]
    },
    {
      "cell_type": "code",
      "metadata": {
        "id": "U8IM06WCwQCm",
        "colab": {
          "base_uri": "https://localhost:8080/"
        },
        "outputId": "dfa2321e-414a-46af-a516-1d8416823a6c"
      },
      "source": [
        "pip install selenium"
      ],
      "execution_count": 2,
      "outputs": [
        {
          "output_type": "stream",
          "text": [
            "Collecting selenium\n",
            "\u001b[?25l  Downloading https://files.pythonhosted.org/packages/80/d6/4294f0b4bce4de0abf13e17190289f9d0613b0a44e5dd6a7f5ca98459853/selenium-3.141.0-py2.py3-none-any.whl (904kB)\n",
            "\r\u001b[K     |▍                               | 10kB 16.9MB/s eta 0:00:01\r\u001b[K     |▊                               | 20kB 22.7MB/s eta 0:00:01\r\u001b[K     |█                               | 30kB 17.0MB/s eta 0:00:01\r\u001b[K     |█▌                              | 40kB 13.4MB/s eta 0:00:01\r\u001b[K     |█▉                              | 51kB 13.7MB/s eta 0:00:01\r\u001b[K     |██▏                             | 61kB 13.5MB/s eta 0:00:01\r\u001b[K     |██▌                             | 71kB 11.3MB/s eta 0:00:01\r\u001b[K     |███                             | 81kB 12.3MB/s eta 0:00:01\r\u001b[K     |███▎                            | 92kB 11.4MB/s eta 0:00:01\r\u001b[K     |███▋                            | 102kB 11.0MB/s eta 0:00:01\r\u001b[K     |████                            | 112kB 11.0MB/s eta 0:00:01\r\u001b[K     |████▍                           | 122kB 11.0MB/s eta 0:00:01\r\u001b[K     |████▊                           | 133kB 11.0MB/s eta 0:00:01\r\u001b[K     |█████                           | 143kB 11.0MB/s eta 0:00:01\r\u001b[K     |█████▍                          | 153kB 11.0MB/s eta 0:00:01\r\u001b[K     |█████▉                          | 163kB 11.0MB/s eta 0:00:01\r\u001b[K     |██████▏                         | 174kB 11.0MB/s eta 0:00:01\r\u001b[K     |██████▌                         | 184kB 11.0MB/s eta 0:00:01\r\u001b[K     |██████▉                         | 194kB 11.0MB/s eta 0:00:01\r\u001b[K     |███████▎                        | 204kB 11.0MB/s eta 0:00:01\r\u001b[K     |███████▋                        | 215kB 11.0MB/s eta 0:00:01\r\u001b[K     |████████                        | 225kB 11.0MB/s eta 0:00:01\r\u001b[K     |████████▎                       | 235kB 11.0MB/s eta 0:00:01\r\u001b[K     |████████▊                       | 245kB 11.0MB/s eta 0:00:01\r\u001b[K     |█████████                       | 256kB 11.0MB/s eta 0:00:01\r\u001b[K     |█████████▍                      | 266kB 11.0MB/s eta 0:00:01\r\u001b[K     |█████████▉                      | 276kB 11.0MB/s eta 0:00:01\r\u001b[K     |██████████▏                     | 286kB 11.0MB/s eta 0:00:01\r\u001b[K     |██████████▌                     | 296kB 11.0MB/s eta 0:00:01\r\u001b[K     |██████████▉                     | 307kB 11.0MB/s eta 0:00:01\r\u001b[K     |███████████▎                    | 317kB 11.0MB/s eta 0:00:01\r\u001b[K     |███████████▋                    | 327kB 11.0MB/s eta 0:00:01\r\u001b[K     |████████████                    | 337kB 11.0MB/s eta 0:00:01\r\u001b[K     |████████████▎                   | 348kB 11.0MB/s eta 0:00:01\r\u001b[K     |████████████▊                   | 358kB 11.0MB/s eta 0:00:01\r\u001b[K     |█████████████                   | 368kB 11.0MB/s eta 0:00:01\r\u001b[K     |█████████████▍                  | 378kB 11.0MB/s eta 0:00:01\r\u001b[K     |█████████████▊                  | 389kB 11.0MB/s eta 0:00:01\r\u001b[K     |██████████████▏                 | 399kB 11.0MB/s eta 0:00:01\r\u001b[K     |██████████████▌                 | 409kB 11.0MB/s eta 0:00:01\r\u001b[K     |██████████████▉                 | 419kB 11.0MB/s eta 0:00:01\r\u001b[K     |███████████████▏                | 430kB 11.0MB/s eta 0:00:01\r\u001b[K     |███████████████▋                | 440kB 11.0MB/s eta 0:00:01\r\u001b[K     |████████████████                | 450kB 11.0MB/s eta 0:00:01\r\u001b[K     |████████████████▎               | 460kB 11.0MB/s eta 0:00:01\r\u001b[K     |████████████████▋               | 471kB 11.0MB/s eta 0:00:01\r\u001b[K     |█████████████████               | 481kB 11.0MB/s eta 0:00:01\r\u001b[K     |█████████████████▍              | 491kB 11.0MB/s eta 0:00:01\r\u001b[K     |█████████████████▊              | 501kB 11.0MB/s eta 0:00:01\r\u001b[K     |██████████████████▏             | 512kB 11.0MB/s eta 0:00:01\r\u001b[K     |██████████████████▌             | 522kB 11.0MB/s eta 0:00:01\r\u001b[K     |██████████████████▉             | 532kB 11.0MB/s eta 0:00:01\r\u001b[K     |███████████████████▏            | 542kB 11.0MB/s eta 0:00:01\r\u001b[K     |███████████████████▋            | 552kB 11.0MB/s eta 0:00:01\r\u001b[K     |████████████████████            | 563kB 11.0MB/s eta 0:00:01\r\u001b[K     |████████████████████▎           | 573kB 11.0MB/s eta 0:00:01\r\u001b[K     |████████████████████▋           | 583kB 11.0MB/s eta 0:00:01\r\u001b[K     |█████████████████████           | 593kB 11.0MB/s eta 0:00:01\r\u001b[K     |█████████████████████▍          | 604kB 11.0MB/s eta 0:00:01\r\u001b[K     |█████████████████████▊          | 614kB 11.0MB/s eta 0:00:01\r\u001b[K     |██████████████████████          | 624kB 11.0MB/s eta 0:00:01\r\u001b[K     |██████████████████████▌         | 634kB 11.0MB/s eta 0:00:01\r\u001b[K     |██████████████████████▉         | 645kB 11.0MB/s eta 0:00:01\r\u001b[K     |███████████████████████▏        | 655kB 11.0MB/s eta 0:00:01\r\u001b[K     |███████████████████████▌        | 665kB 11.0MB/s eta 0:00:01\r\u001b[K     |████████████████████████        | 675kB 11.0MB/s eta 0:00:01\r\u001b[K     |████████████████████████▎       | 686kB 11.0MB/s eta 0:00:01\r\u001b[K     |████████████████████████▋       | 696kB 11.0MB/s eta 0:00:01\r\u001b[K     |█████████████████████████       | 706kB 11.0MB/s eta 0:00:01\r\u001b[K     |█████████████████████████▍      | 716kB 11.0MB/s eta 0:00:01\r\u001b[K     |█████████████████████████▊      | 727kB 11.0MB/s eta 0:00:01\r\u001b[K     |██████████████████████████      | 737kB 11.0MB/s eta 0:00:01\r\u001b[K     |██████████████████████████▍     | 747kB 11.0MB/s eta 0:00:01\r\u001b[K     |██████████████████████████▉     | 757kB 11.0MB/s eta 0:00:01\r\u001b[K     |███████████████████████████▏    | 768kB 11.0MB/s eta 0:00:01\r\u001b[K     |███████████████████████████▌    | 778kB 11.0MB/s eta 0:00:01\r\u001b[K     |████████████████████████████    | 788kB 11.0MB/s eta 0:00:01\r\u001b[K     |████████████████████████████▎   | 798kB 11.0MB/s eta 0:00:01\r\u001b[K     |████████████████████████████▋   | 808kB 11.0MB/s eta 0:00:01\r\u001b[K     |█████████████████████████████   | 819kB 11.0MB/s eta 0:00:01\r\u001b[K     |█████████████████████████████▍  | 829kB 11.0MB/s eta 0:00:01\r\u001b[K     |█████████████████████████████▊  | 839kB 11.0MB/s eta 0:00:01\r\u001b[K     |██████████████████████████████  | 849kB 11.0MB/s eta 0:00:01\r\u001b[K     |██████████████████████████████▍ | 860kB 11.0MB/s eta 0:00:01\r\u001b[K     |██████████████████████████████▉ | 870kB 11.0MB/s eta 0:00:01\r\u001b[K     |███████████████████████████████▏| 880kB 11.0MB/s eta 0:00:01\r\u001b[K     |███████████████████████████████▌| 890kB 11.0MB/s eta 0:00:01\r\u001b[K     |███████████████████████████████▉| 901kB 11.0MB/s eta 0:00:01\r\u001b[K     |████████████████████████████████| 911kB 11.0MB/s \n",
            "\u001b[?25hRequirement already satisfied: urllib3 in /usr/local/lib/python3.6/dist-packages (from selenium) (1.24.3)\n",
            "Installing collected packages: selenium\n",
            "Successfully installed selenium-3.141.0\n"
          ],
          "name": "stdout"
        }
      ]
    },
    {
      "cell_type": "code",
      "metadata": {
        "id": "MbMAQc_hspGm",
        "colab": {
          "base_uri": "https://localhost:8080/"
        },
        "outputId": "efeeed3f-22d2-429f-feea-2d179b6ba73f"
      },
      "source": [
        "pip install import-ipynb"
      ],
      "execution_count": 3,
      "outputs": [
        {
          "output_type": "stream",
          "text": [
            "Collecting import-ipynb\n",
            "  Downloading https://files.pythonhosted.org/packages/63/35/495e0021bfdcc924c7cdec4e9fbb87c88dd03b9b9b22419444dc370c8a45/import-ipynb-0.1.3.tar.gz\n",
            "Building wheels for collected packages: import-ipynb\n",
            "  Building wheel for import-ipynb (setup.py) ... \u001b[?25l\u001b[?25hdone\n",
            "  Created wheel for import-ipynb: filename=import_ipynb-0.1.3-cp36-none-any.whl size=2976 sha256=2e17f0e0fa8da2c2e2a9ebb286eec94d168d6486e8f873a81b06b2c31fbbdba3\n",
            "  Stored in directory: /root/.cache/pip/wheels/b4/7b/e9/a3a6e496115dffdb4e3085d0ae39ffe8a814eacc44bbf494b5\n",
            "Successfully built import-ipynb\n",
            "Installing collected packages: import-ipynb\n",
            "Successfully installed import-ipynb-0.1.3\n"
          ],
          "name": "stdout"
        }
      ]
    },
    {
      "cell_type": "code",
      "metadata": {
        "colab": {
          "base_uri": "https://localhost:8080/"
        },
        "id": "70B93MxYsZ_X",
        "outputId": "bd8c2897-0715-45d4-be68-4c4445d6014f"
      },
      "source": [
        "%cd \"/content/drive/MyDrive/Colab Notebooks/Seoul_Music_Awards\"\r\n",
        "\r\n",
        "import datetime\r\n",
        "import import_ipynb\r\n",
        "import sma_scrapping as sma\r\n",
        "import pandas as pd\r\n",
        "import schedule\r\n",
        "import time"
      ],
      "execution_count": 5,
      "outputs": [
        {
          "output_type": "stream",
          "text": [
            "/content/drive/MyDrive/Colab Notebooks/Seoul_Music_Awards\n"
          ],
          "name": "stdout"
        }
      ]
    },
    {
      "cell_type": "code",
      "metadata": {
        "id": "1jh4t8dRtiFE"
      },
      "source": [
        "def update_df():\r\n",
        "    new_df = sma.sma_data()\r\n",
        "    print(\"1/3 ok\")\r\n",
        "    df = pd.read_csv('/content/drive/MyDrive/Colab Notebooks/Seoul_Music_Awards/SMA_DATA.csv', index_col = False)\r\n",
        "    print(\"2/3 ok\")\r\n",
        "    df = df.append(new_df)\r\n",
        "    df.to_csv('/content/drive/MyDrive/Colab Notebooks/Seoul_Music_Awards/SMA_DATA.csv', index = False)\r\n",
        "\r\n",
        "    print(f\"Updated succesfully at {datetime.datetime.now()} (GMT)\")"
      ],
      "execution_count": 6,
      "outputs": []
    },
    {
      "cell_type": "code",
      "metadata": {
        "colab": {
          "base_uri": "https://localhost:8080/"
        },
        "id": "-s11JuuUF5w3",
        "outputId": "ebbdc2b4-548b-4ba3-92f8-ca7457612189"
      },
      "source": [
        "update_df()"
      ],
      "execution_count": 7,
      "outputs": [
        {
          "output_type": "stream",
          "text": [
            "\r0% [Working]\r            \rGet:1 http://ppa.launchpad.net/c2d4u.team/c2d4u4.0+/ubuntu bionic InRelease [15.9 kB]\n",
            "\r0% [Waiting for headers] [Waiting for headers] [Connected to cloud.r-project.or\r                                                                               \rGet:2 http://security.ubuntu.com/ubuntu bionic-security InRelease [88.7 kB]\n",
            "\r0% [Waiting for headers] [2 InRelease 14.2 kB/88.7 kB 16%] [Connected to cloud.\r0% [Waiting for headers] [2 InRelease 43.1 kB/88.7 kB 49%] [Connected to cloud.\r                                                                               \rHit:3 http://archive.ubuntu.com/ubuntu bionic InRelease\n",
            "\r                                                                               \rGet:4 http://archive.ubuntu.com/ubuntu bionic-updates InRelease [88.7 kB]\n",
            "\r0% [4 InRelease 15.6 kB/88.7 kB 18%] [2 InRelease 43.1 kB/88.7 kB 49%] [Connect\r                                                                               \rHit:5 http://ppa.launchpad.net/cran/libgit2/ubuntu bionic InRelease\n",
            "\r0% [4 InRelease 15.6 kB/88.7 kB 18%] [2 InRelease 50.4 kB/88.7 kB 57%] [Connect\r0% [1 InRelease gpgv 15.9 kB] [4 InRelease 15.6 kB/88.7 kB 18%] [2 InRelease 54\r0% [1 InRelease gpgv 15.9 kB] [4 InRelease 44.6 kB/88.7 kB 50%] [Waiting for he\r                                                                               \rGet:6 https://cloud.r-project.org/bin/linux/ubuntu bionic-cran40/ InRelease [3,626 B]\n",
            "\r0% [1 InRelease gpgv 15.9 kB] [4 InRelease 47.5 kB/88.7 kB 54%] [Connecting to \r0% [1 InRelease gpgv 15.9 kB] [Waiting for headers] [Waiting for headers] [Wait\r                                                                               \rGet:7 http://ppa.launchpad.net/graphics-drivers/ppa/ubuntu bionic InRelease [21.3 kB]\n",
            "\r0% [1 InRelease gpgv 15.9 kB] [Waiting for headers] [7 InRelease 14.2 kB/21.3 k\r                                                                               \r0% [1 InRelease gpgv 15.9 kB] [Waiting for headers] [Waiting for headers]\r                                                                         \rGet:8 http://archive.ubuntu.com/ubuntu bionic-backports InRelease [74.6 kB]\n",
            "Ign:9 https://developer.download.nvidia.com/compute/cuda/repos/ubuntu1804/x86_64  InRelease\n",
            "Ign:10 https://developer.download.nvidia.com/compute/machine-learning/repos/ubuntu1804/x86_64  InRelease\n",
            "Get:11 http://ppa.launchpad.net/c2d4u.team/c2d4u4.0+/ubuntu bionic/main Sources [1,713 kB]\n",
            "Hit:12 https://developer.download.nvidia.com/compute/cuda/repos/ubuntu1804/x86_64  Release\n",
            "Get:13 https://developer.download.nvidia.com/compute/machine-learning/repos/ubuntu1804/x86_64  Release [564 B]\n",
            "Get:14 https://developer.download.nvidia.com/compute/machine-learning/repos/ubuntu1804/x86_64  Release.gpg [833 B]\n",
            "Get:15 http://ppa.launchpad.net/c2d4u.team/c2d4u4.0+/ubuntu bionic/main amd64 Packages [876 kB]\n",
            "Get:16 http://security.ubuntu.com/ubuntu bionic-security/main amd64 Packages [1,881 kB]\n",
            "Get:17 http://security.ubuntu.com/ubuntu bionic-security/restricted amd64 Packages [284 kB]\n",
            "Get:18 http://security.ubuntu.com/ubuntu bionic-security/universe amd64 Packages [1,376 kB]\n",
            "Get:19 https://cloud.r-project.org/bin/linux/ubuntu bionic-cran40/ Packages [43.6 kB]\n",
            "Get:20 http://archive.ubuntu.com/ubuntu bionic-updates/restricted amd64 Packages [309 kB]\n",
            "Get:21 http://archive.ubuntu.com/ubuntu bionic-updates/universe amd64 Packages [2,140 kB]\n",
            "Get:22 http://archive.ubuntu.com/ubuntu bionic-updates/multiverse amd64 Packages [45.6 kB]\n",
            "Get:23 http://archive.ubuntu.com/ubuntu bionic-updates/main amd64 Packages [2,307 kB]\n",
            "Get:24 http://ppa.launchpad.net/graphics-drivers/ppa/ubuntu bionic/main amd64 Packages [49.2 kB]\n",
            "Get:26 https://developer.download.nvidia.com/compute/machine-learning/repos/ubuntu1804/x86_64  Packages [66.5 kB]\n",
            "Fetched 11.4 MB in 2s (4,564 kB/s)\n",
            "Reading package lists... Done\n",
            "Reading package lists... Done\n",
            "Building dependency tree       \n",
            "Reading state information... Done\n",
            "The following additional packages will be installed:\n",
            "  chromium-browser chromium-browser-l10n chromium-codecs-ffmpeg-extra\n",
            "Suggested packages:\n",
            "  webaccounts-chromium-extension unity-chromium-extension adobe-flashplugin\n",
            "The following NEW packages will be installed:\n",
            "  chromium-browser chromium-browser-l10n chromium-chromedriver\n",
            "  chromium-codecs-ffmpeg-extra\n",
            "0 upgraded, 4 newly installed, 0 to remove and 53 not upgraded.\n",
            "Need to get 81.0 MB of archives.\n",
            "After this operation, 273 MB of additional disk space will be used.\n",
            "Get:1 http://archive.ubuntu.com/ubuntu bionic-updates/universe amd64 chromium-codecs-ffmpeg-extra amd64 87.0.4280.66-0ubuntu0.18.04.1 [1,122 kB]\n",
            "Get:2 http://archive.ubuntu.com/ubuntu bionic-updates/universe amd64 chromium-browser amd64 87.0.4280.66-0ubuntu0.18.04.1 [71.7 MB]\n",
            "Get:3 http://archive.ubuntu.com/ubuntu bionic-updates/universe amd64 chromium-browser-l10n all 87.0.4280.66-0ubuntu0.18.04.1 [3,716 kB]\n",
            "Get:4 http://archive.ubuntu.com/ubuntu bionic-updates/universe amd64 chromium-chromedriver amd64 87.0.4280.66-0ubuntu0.18.04.1 [4,488 kB]\n",
            "Fetched 81.0 MB in 2s (53.8 MB/s)\n",
            "Selecting previously unselected package chromium-codecs-ffmpeg-extra.\n",
            "(Reading database ... 145483 files and directories currently installed.)\n",
            "Preparing to unpack .../chromium-codecs-ffmpeg-extra_87.0.4280.66-0ubuntu0.18.04.1_amd64.deb ...\n",
            "Unpacking chromium-codecs-ffmpeg-extra (87.0.4280.66-0ubuntu0.18.04.1) ...\n",
            "Selecting previously unselected package chromium-browser.\n",
            "Preparing to unpack .../chromium-browser_87.0.4280.66-0ubuntu0.18.04.1_amd64.deb ...\n",
            "Unpacking chromium-browser (87.0.4280.66-0ubuntu0.18.04.1) ...\n",
            "Selecting previously unselected package chromium-browser-l10n.\n",
            "Preparing to unpack .../chromium-browser-l10n_87.0.4280.66-0ubuntu0.18.04.1_all.deb ...\n",
            "Unpacking chromium-browser-l10n (87.0.4280.66-0ubuntu0.18.04.1) ...\n",
            "Selecting previously unselected package chromium-chromedriver.\n",
            "Preparing to unpack .../chromium-chromedriver_87.0.4280.66-0ubuntu0.18.04.1_amd64.deb ...\n",
            "Unpacking chromium-chromedriver (87.0.4280.66-0ubuntu0.18.04.1) ...\n",
            "Setting up chromium-codecs-ffmpeg-extra (87.0.4280.66-0ubuntu0.18.04.1) ...\n",
            "Setting up chromium-browser (87.0.4280.66-0ubuntu0.18.04.1) ...\n",
            "update-alternatives: using /usr/bin/chromium-browser to provide /usr/bin/x-www-browser (x-www-browser) in auto mode\n",
            "update-alternatives: using /usr/bin/chromium-browser to provide /usr/bin/gnome-www-browser (gnome-www-browser) in auto mode\n",
            "Setting up chromium-chromedriver (87.0.4280.66-0ubuntu0.18.04.1) ...\n",
            "Setting up chromium-browser-l10n (87.0.4280.66-0ubuntu0.18.04.1) ...\n",
            "Processing triggers for hicolor-icon-theme (0.17-2) ...\n",
            "Processing triggers for mime-support (3.60ubuntu1) ...\n",
            "Processing triggers for man-db (2.8.3-2ubuntu0.1) ...\n",
            "1/3 ok\n",
            "2/3 ok\n",
            "Updated succesfully at 2021-01-18 01:45:05.426435 (GMT)\n"
          ],
          "name": "stdout"
        }
      ]
    },
    {
      "cell_type": "code",
      "metadata": {
        "colab": {
          "base_uri": "https://localhost:8080/"
        },
        "id": "_QNSf0dDuqW6",
        "outputId": "af1e2a7e-0df7-418d-87ed-f7ec6b1ef51f"
      },
      "source": [
        "schedule.every().hour.at(\":00\").do(update_df)"
      ],
      "execution_count": null,
      "outputs": [
        {
          "output_type": "execute_result",
          "data": {
            "text/plain": [
              "Every 1 hour at 00:00:00 do update_df() (last run: [never], next run: 2021-01-17 09:00:00)"
            ]
          },
          "metadata": {
            "tags": []
          },
          "execution_count": 56
        }
      ]
    },
    {
      "cell_type": "code",
      "metadata": {
        "id": "ykBZnyUB-PQ8"
      },
      "source": [
        "while True:\r\n",
        "    schedule.run_pending()\r\n",
        "    time.sleep(1)"
      ],
      "execution_count": null,
      "outputs": []
    },
    {
      "cell_type": "code",
      "metadata": {
        "colab": {
          "base_uri": "https://localhost:8080/"
        },
        "id": "QXEb1Fd5yk7x",
        "outputId": "c2e5467d-6edb-42b6-8445-60f8ed3d19cf"
      },
      "source": [
        "# SHOWS SCHEDULE TASKS\r\n",
        "schedule.jobs"
      ],
      "execution_count": null,
      "outputs": [
        {
          "output_type": "execute_result",
          "data": {
            "text/plain": [
              "[]"
            ]
          },
          "metadata": {
            "tags": []
          },
          "execution_count": 6
        }
      ]
    },
    {
      "cell_type": "code",
      "metadata": {
        "id": "jkBuzpt5-Yda"
      },
      "source": [
        "# CLEAR TASKS\r\n",
        "schedule.clear(tag=None)"
      ],
      "execution_count": null,
      "outputs": []
    }
  ]
}